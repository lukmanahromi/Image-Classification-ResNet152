{
  "cells": [
    {
      "cell_type": "code",
      "execution_count": 3,
      "metadata": {
        "colab": {
          "base_uri": "https://localhost:8080/"
        },
        "id": "zgkx1eZvPueU",
        "outputId": "3e9a1284-5755-4934-a835-6d1c5aaf3d05"
      },
      "outputs": [
        {
          "output_type": "stream",
          "name": "stdout",
          "text": [
            "Requirement already satisfied: flask-ngrok in /usr/local/lib/python3.7/dist-packages (0.0.25)\n",
            "Requirement already satisfied: Flask>=0.8 in /usr/local/lib/python3.7/dist-packages (from flask-ngrok) (1.1.4)\n",
            "Requirement already satisfied: requests in /usr/local/lib/python3.7/dist-packages (from flask-ngrok) (2.23.0)\n",
            "Requirement already satisfied: itsdangerous<2.0,>=0.24 in /usr/local/lib/python3.7/dist-packages (from Flask>=0.8->flask-ngrok) (1.1.0)\n",
            "Requirement already satisfied: Werkzeug<2.0,>=0.15 in /usr/local/lib/python3.7/dist-packages (from Flask>=0.8->flask-ngrok) (1.0.1)\n",
            "Requirement already satisfied: click<8.0,>=5.1 in /usr/local/lib/python3.7/dist-packages (from Flask>=0.8->flask-ngrok) (7.1.2)\n",
            "Requirement already satisfied: Jinja2<3.0,>=2.10.1 in /usr/local/lib/python3.7/dist-packages (from Flask>=0.8->flask-ngrok) (2.11.3)\n",
            "Requirement already satisfied: MarkupSafe>=0.23 in /usr/local/lib/python3.7/dist-packages (from Jinja2<3.0,>=2.10.1->Flask>=0.8->flask-ngrok) (2.0.1)\n",
            "Requirement already satisfied: certifi>=2017.4.17 in /usr/local/lib/python3.7/dist-packages (from requests->flask-ngrok) (2021.10.8)\n",
            "Requirement already satisfied: urllib3!=1.25.0,!=1.25.1,<1.26,>=1.21.1 in /usr/local/lib/python3.7/dist-packages (from requests->flask-ngrok) (1.24.3)\n",
            "Requirement already satisfied: chardet<4,>=3.0.2 in /usr/local/lib/python3.7/dist-packages (from requests->flask-ngrok) (3.0.4)\n",
            "Requirement already satisfied: idna<3,>=2.5 in /usr/local/lib/python3.7/dist-packages (from requests->flask-ngrok) (2.10)\n"
          ]
        }
      ],
      "source": [
        "pip install flask-ngrok"
      ]
    },
    {
      "cell_type": "code",
      "execution_count": 6,
      "metadata": {
        "colab": {
          "base_uri": "https://localhost:8080/",
          "height": 328
        },
        "id": "39HV5NHDS8oS",
        "outputId": "68909114-7761-45c0-cf92-c4750840d553"
      },
      "outputs": [
        {
          "output_type": "error",
          "ename": "MessageError",
          "evalue": "ignored",
          "traceback": [
            "\u001b[0;31m---------------------------------------------------------------------------\u001b[0m",
            "\u001b[0;31mMessageError\u001b[0m                              Traceback (most recent call last)",
            "\u001b[0;32m<ipython-input-6-a145c0899d7d>\u001b[0m in \u001b[0;36m<module>\u001b[0;34m()\u001b[0m\n\u001b[1;32m      1\u001b[0m \u001b[0;32mfrom\u001b[0m \u001b[0mgoogle\u001b[0m\u001b[0;34m.\u001b[0m\u001b[0mcolab\u001b[0m \u001b[0;32mimport\u001b[0m \u001b[0mdrive\u001b[0m\u001b[0;34m\u001b[0m\u001b[0;34m\u001b[0m\u001b[0m\n\u001b[0;32m----> 2\u001b[0;31m \u001b[0mdrive\u001b[0m\u001b[0;34m.\u001b[0m\u001b[0mmount\u001b[0m\u001b[0;34m(\u001b[0m\u001b[0;34m'/content/drive'\u001b[0m\u001b[0;34m,\u001b[0m \u001b[0mforce_remount\u001b[0m\u001b[0;34m=\u001b[0m\u001b[0;32mTrue\u001b[0m\u001b[0;34m)\u001b[0m\u001b[0;34m\u001b[0m\u001b[0;34m\u001b[0m\u001b[0m\n\u001b[0m",
            "\u001b[0;32m/usr/local/lib/python3.7/dist-packages/google/colab/drive.py\u001b[0m in \u001b[0;36mmount\u001b[0;34m(mountpoint, force_remount, timeout_ms, use_metadata_server)\u001b[0m\n\u001b[1;32m    111\u001b[0m       \u001b[0mtimeout_ms\u001b[0m\u001b[0;34m=\u001b[0m\u001b[0mtimeout_ms\u001b[0m\u001b[0;34m,\u001b[0m\u001b[0;34m\u001b[0m\u001b[0;34m\u001b[0m\u001b[0m\n\u001b[1;32m    112\u001b[0m       \u001b[0muse_metadata_server\u001b[0m\u001b[0;34m=\u001b[0m\u001b[0muse_metadata_server\u001b[0m\u001b[0;34m,\u001b[0m\u001b[0;34m\u001b[0m\u001b[0;34m\u001b[0m\u001b[0m\n\u001b[0;32m--> 113\u001b[0;31m       ephemeral=ephemeral)\n\u001b[0m\u001b[1;32m    114\u001b[0m \u001b[0;34m\u001b[0m\u001b[0m\n\u001b[1;32m    115\u001b[0m \u001b[0;34m\u001b[0m\u001b[0m\n",
            "\u001b[0;32m/usr/local/lib/python3.7/dist-packages/google/colab/drive.py\u001b[0m in \u001b[0;36m_mount\u001b[0;34m(mountpoint, force_remount, timeout_ms, use_metadata_server, ephemeral)\u001b[0m\n\u001b[1;32m    134\u001b[0m   \u001b[0;32mif\u001b[0m \u001b[0mephemeral\u001b[0m\u001b[0;34m:\u001b[0m\u001b[0;34m\u001b[0m\u001b[0;34m\u001b[0m\u001b[0m\n\u001b[1;32m    135\u001b[0m     _message.blocking_request(\n\u001b[0;32m--> 136\u001b[0;31m         'request_auth', request={'authType': 'dfs_ephemeral'}, timeout_sec=None)\n\u001b[0m\u001b[1;32m    137\u001b[0m \u001b[0;34m\u001b[0m\u001b[0m\n\u001b[1;32m    138\u001b[0m   \u001b[0mmountpoint\u001b[0m \u001b[0;34m=\u001b[0m \u001b[0m_os\u001b[0m\u001b[0;34m.\u001b[0m\u001b[0mpath\u001b[0m\u001b[0;34m.\u001b[0m\u001b[0mexpanduser\u001b[0m\u001b[0;34m(\u001b[0m\u001b[0mmountpoint\u001b[0m\u001b[0;34m)\u001b[0m\u001b[0;34m\u001b[0m\u001b[0;34m\u001b[0m\u001b[0m\n",
            "\u001b[0;32m/usr/local/lib/python3.7/dist-packages/google/colab/_message.py\u001b[0m in \u001b[0;36mblocking_request\u001b[0;34m(request_type, request, timeout_sec, parent)\u001b[0m\n\u001b[1;32m    173\u001b[0m   request_id = send_request(\n\u001b[1;32m    174\u001b[0m       request_type, request, parent=parent, expect_reply=True)\n\u001b[0;32m--> 175\u001b[0;31m   \u001b[0;32mreturn\u001b[0m \u001b[0mread_reply_from_input\u001b[0m\u001b[0;34m(\u001b[0m\u001b[0mrequest_id\u001b[0m\u001b[0;34m,\u001b[0m \u001b[0mtimeout_sec\u001b[0m\u001b[0;34m)\u001b[0m\u001b[0;34m\u001b[0m\u001b[0;34m\u001b[0m\u001b[0m\n\u001b[0m",
            "\u001b[0;32m/usr/local/lib/python3.7/dist-packages/google/colab/_message.py\u001b[0m in \u001b[0;36mread_reply_from_input\u001b[0;34m(message_id, timeout_sec)\u001b[0m\n\u001b[1;32m    104\u001b[0m         reply.get('colab_msg_id') == message_id):\n\u001b[1;32m    105\u001b[0m       \u001b[0;32mif\u001b[0m \u001b[0;34m'error'\u001b[0m \u001b[0;32min\u001b[0m \u001b[0mreply\u001b[0m\u001b[0;34m:\u001b[0m\u001b[0;34m\u001b[0m\u001b[0;34m\u001b[0m\u001b[0m\n\u001b[0;32m--> 106\u001b[0;31m         \u001b[0;32mraise\u001b[0m \u001b[0mMessageError\u001b[0m\u001b[0;34m(\u001b[0m\u001b[0mreply\u001b[0m\u001b[0;34m[\u001b[0m\u001b[0;34m'error'\u001b[0m\u001b[0;34m]\u001b[0m\u001b[0;34m)\u001b[0m\u001b[0;34m\u001b[0m\u001b[0;34m\u001b[0m\u001b[0m\n\u001b[0m\u001b[1;32m    107\u001b[0m       \u001b[0;32mreturn\u001b[0m \u001b[0mreply\u001b[0m\u001b[0;34m.\u001b[0m\u001b[0mget\u001b[0m\u001b[0;34m(\u001b[0m\u001b[0;34m'data'\u001b[0m\u001b[0;34m,\u001b[0m \u001b[0;32mNone\u001b[0m\u001b[0;34m)\u001b[0m\u001b[0;34m\u001b[0m\u001b[0;34m\u001b[0m\u001b[0m\n\u001b[1;32m    108\u001b[0m \u001b[0;34m\u001b[0m\u001b[0m\n",
            "\u001b[0;31mMessageError\u001b[0m: Error: credential propagation was unsuccessful"
          ]
        }
      ],
      "source": [
        "from google.colab import drive\n",
        "drive.mount('/content/drive', force_remount=True)"
      ]
    },
    {
      "cell_type": "code",
      "execution_count": null,
      "metadata": {
        "id": "1SGsLtyHrVjz"
      },
      "outputs": [],
      "source": [
        "pip install pydrive"
      ]
    },
    {
      "cell_type": "markdown",
      "metadata": {
        "id": "OY8rmPcJRn-k"
      },
      "source": [
        "### **Import**"
      ]
    },
    {
      "cell_type": "code",
      "execution_count": null,
      "metadata": {
        "id": "7wQ2pedSRtlX"
      },
      "outputs": [],
      "source": [
        "from flask_ngrok import run_with_ngrok\n",
        "from flask import Flask, request, render_template\n",
        "import pickle\n",
        "from tensorflow.keras.models import load_model\n",
        "from tensorflow.keras.preprocessing import image\n",
        "import numpy as np\n",
        "import os"
      ]
    },
    {
      "cell_type": "markdown",
      "metadata": {
        "id": "KhRtx_bzSfc6"
      },
      "source": [
        "# **main code**"
      ]
    },
    {
      "cell_type": "code",
      "execution_count": null,
      "metadata": {
        "id": "ookHxF7PSqHc"
      },
      "outputs": [],
      "source": [
        "app = Flask(__name__, template_folder='/content/drive/MyDrive/Colab Notebooks/restes/Deploy-Web/Template')\n",
        "\n",
        "run_with_ngrok(app)\n",
        "\n",
        "ds_suara =  os.listdir('/content/drive/MyDrive/Colab Notebooks/restes/dataset/Suara no folder/')\n",
        "ds_suara_sorted = sorted(ds_suara)\n",
        "#print(ds_suara_sorted)\n",
        "\n",
        "\n",
        "model = load_model('/content/drive/MyDrive/Colab Notebooks/restes/Hasil Training/best_model.h5')\n",
        "classes = ['A full', 'A half', 'A seper16', 'A seper4', 'A seper8', 'B full', 'B half', 'B seper16', 'B seper4', 'B seper8', 'C full', 'C half', 'C seper16', 'C seper4', 'C seper8', \"C' full\", \"C' half\", \"C' seper16\", \"C' seper4\", \"C' seper8\", 'D full', 'D half', 'D seper16', 'D seper4', 'D seper8', 'E full', 'E half', 'E seper16', 'E seper4', 'E seper8', 'F full', 'F half', 'F seper16', 'F seper4', 'F seper8', 'G full', 'G half', 'G seper16', 'G seper4', 'G seper8']\n",
        "\n",
        "suara = ['https://drive.google.com/uc?export=view&id=1_5W3hvNZHBhA2_02GBtSc9BMLsmwMEZg',\n",
        "'https://drive.google.com/uc?export=view&id=1z5cTpYD1n1qh1LVz6cGcrd1MPUbZiXCEg',\n",
        "'https://drive.google.com/uc?export=view&id=1dd9iNIIrHF5QcnnM4ZFB2blKOmQja4lj',\n",
        "'https://drive.google.com/uc?export=view&id=1jbHRSThTuVD1sU_kTte-J6H49nwjLJPO',\n",
        "'https://drive.google.com/uc?export=view&id=1fxhol41uU9i7Mbope-wfORxiz4BasScz',\n",
        "'https://drive.google.com/uc?export=view&id=1A4qhL8n3F4HPeXIuE3MOVxDllMivSZtQ',\n",
        "'https://drive.google.com/uc?export=view&id=1u75vWoA3BFzIqi8-8uGKGaMuAnbry0Z6',\n",
        "'https://drive.google.com/uc?export=view&id=1ueAHZDZDnsAJbmayW7i-raoquwSXgtpq',\n",
        "'https://drive.google.com/uc?export=view&id=1VHzjIOcG2XgsZNno_L4thYLL63nWBUwm',\n",
        "'https://drive.google.com/uc?export=view&id=171nWiQ7-szzTLbEaYjE3gSGNF35HTS45',\n",
        "'https://drive.google.com/uc?export=view&id=1pRy6RaF7PqKr5kY5YjHqqH5Uf6ZeNwZE',\n",
        "'https://drive.google.com/uc?export=view&id=1mcV90gNP1ufoNf-ZDEIVLLqJMnhgzAto',\n",
        "'https://drive.google.com/uc?export=view&id=1S7L0Dgbg1y2HRQxbboqzS3mUR56YU1tn',\n",
        "'https://drive.google.com/uc?export=view&id=1z6pQXiPFb3uFp8OXNWmgl00TGU6Pbfv5',\n",
        "'https://drive.google.com/uc?export=view&id=1wU9asZAZ7W87_Yl8ZZjRL3Joynn_pChc',\n",
        "'https://drive.google.com/uc?export=view&id=1zime-iF8aNw72JbMEBOfNOYeLPPEXqwf',\n",
        "'https://drive.google.com/uc?export=view&id=1H_2ZFKZRVZ5p0x1TOCHX17OX04BHZL7g',\n",
        "'https://drive.google.com/uc?export=view&id=193xYrle5dPvgJ1Z4me25I312L9d76ZBx',\n",
        "'https://drive.google.com/uc?export=view&id=1D95wnUMvaZsHjXDowqnE3WYlPbZbeM-d',\n",
        "'https://drive.google.com/uc?export=view&id=11tl06WJAwxtFVC5WzbJ3FrKJ3R9EBEQz',\n",
        "'https://drive.google.com/uc?export=view&id=1FBwUCfrSZy0o7gFpWmit0V8M6crX0Dwq',\n",
        "'https://drive.google.com/uc?export=view&id=1Z4F2KkpVHKDjOWz-wb-uVDFlljQTv3uY',\n",
        "'https://drive.google.com/uc?export=view&id=17-6GZ7W693N5W_5VlluHnCQgui9eBvlr',\n",
        "'https://drive.google.com/uc?export=view&id=1FF04SpSKk8oJPvqbf8nI2YdS6RWfHvzO',\n",
        "'https://drive.google.com/uc?export=view&id=1S0_2B3E9PsCSOXzWfXn9Xl_fKgPO1nX7',\n",
        "'https://drive.google.com/uc?export=view&id=11--tcq1CvPhqUC-4yHMVFHJXJsNlvazH',\n",
        "'https://drive.google.com/uc?export=view&id=1A5cNYnllwaOt-AIFQpFgNQrRbvJ2LKub',\n",
        "'https://drive.google.com/uc?export=view&id=1cI3bK97Nmr_N5FPuOp2E7gC67E47-YnG',\n",
        "'https://drive.google.com/uc?export=view&id=1BdUYFd4lGhikpcVQ0phhttpJ5A3wSyPH',\n",
        "'https://drive.google.com/uc?export=view&id=1hWc46lv03WpaLXIzvtJvCGFfBbGdF4HH',\n",
        "'https://drive.google.com/uc?export=view&id=1xqAGwtIuFSau9VJ4DpfqVKl8jVLZ3sx0',\n",
        "'https://drive.google.com/uc?export=view&id=1L4AH_uf3-MBR86cTNrlnVdlVbwBonz4p',\n",
        "'https://drive.google.com/uc?export=view&id=1tOeE__iVRoPwWL_fDyyVlJ3EzA27CGnO',\n",
        "'https://drive.google.com/uc?export=view&id=1F3uw3aXHhiRMCqo2QIZWiZPq9yioWaHE',\n",
        "'https://drive.google.com/uc?export=view&id=1KvFSE_42JXElilqjL-KCb-Al6ceqiCUb',\n",
        "'https://drive.google.com/uc?export=view&id=1y6A5pr5m-OQD5KesdR65mzXCIvTTFUu9',\n",
        "'https://drive.google.com/uc?export=view&id=1mOmMHPMXTorYmcBqu-Y8Ba07ZGkFEoUw',\n",
        "'https://drive.google.com/uc?export=view&id=1OWxcYZ_F6MOuQJrrAoq7y2TAmskzodod',\n",
        "'https://drive.google.com/uc?export=view&id=1bos5bvp7BqWcUJ6QCvWAlIIyDZuJSCMG',\n",
        "'https://drive.google.com/uc?export=view&id=1oYawVxyK1qkEvb0o1LC3m-0YYJLz768w'\n",
        "]\n",
        "model.make_predict_function()\n",
        "\n",
        "\n",
        "def predict_label(img_path):\n",
        "\n",
        "\n",
        "  i = image.load_img(img_path, target_size=(224,224))\n",
        "  i = image.img_to_array(i)/255.0\n",
        "  i = i.reshape(1, 224,224,3)\n",
        "  #p = model.predict_classes(i)\n",
        "\n",
        "  p = model.predict(i)\n",
        "  p = np.argmax(p, axis=1)\n",
        "  result = {'hasil': '', 'suara': ''}\n",
        "  result['hasil']= classes[p[0]]\n",
        "  result['suara'] = suara[p[0]]\n",
        "\n",
        "  return result\n",
        "\n",
        "def predict_suara():\n",
        "  return ds_suara_sorted[0]  \n",
        "\n",
        "@app.route('/', methods=['GET', 'POST'])\n",
        "def home():\n",
        "    return render_template('index.html')\n",
        "\n",
        "@app.route('/classification', methods=['GET', 'POST'])\n",
        "def about_page():\n",
        "    return render_template('classification.html')\n",
        "\n",
        "    \n",
        "\n",
        "@app.route('/submit',methods=['GET', 'POST'])\n",
        "def get_output():    \n",
        "\n",
        "  if request.method == 'POST':\n",
        "    img = request.files['my_image']\n",
        "\n",
        "    img_path =  img.filename\t\n",
        "\n",
        "    img.save(img_path)\n",
        "    result = predict_label(img_path)\n",
        "    \n",
        "  return render_template(\"classification.html\", prediction = result['hasil'], suara = result['suara'], img_path = img_path)\n",
        "\n",
        "\n",
        "\n",
        "if __name__ == \"__main__\":\n",
        "  app.run()"
      ]
    },
    {
      "cell_type": "code",
      "execution_count": null,
      "metadata": {
        "id": "aCWPiKkZ7DrP"
      },
      "outputs": [],
      "source": [
        "import os\n",
        "\n",
        "\n",
        "#dataset_dir = os.path.join('/content/drive/MyDrive/Colab Notebooks/restes/dataset/Putri Navia Splited')\n",
        "\n",
        "#classes = ['A full', 'A half', 'A seper16', 'A seper4', 'A seper8', 'B full', 'B half', 'B seper16', 'B seper4', 'B seper8', 'C full', 'C half', 'C seper16', 'C seper4', 'C seper8', \"C' full\", \"C' half\", \"C' seper16\", \"C' seper4\", \"C' seper8\", 'D full', 'D half', 'D seper16', 'D seper4', 'D seper8', 'E full', 'E half', 'E seper16', 'E seper4', 'E seper8', 'F full', 'F half', 'F seper16', 'F seper4', 'F seper8', 'G full', 'G half', 'G seper16', 'G seper4', 'G seper8']\n",
        "\n",
        "\n",
        "#dir_name = '/content/drive/MyDrive/Colab Notebooks/restes/dataset/Suara no folder'\n",
        "\n",
        "files =  os.listdir('/content/drive/MyDrive/Colab Notebooks/restes/dataset/Suara no folder/')\n",
        "#print(os.listdir('/content/drive/MyDrive/Colab Notebooks/restes/dataset/Suara no folder'))\n",
        "\n",
        "sorted_files = sorted(files)\n",
        "print(sorted_files) \n",
        "print (ds_suara)\n",
        "\n",
        "\n",
        "\n"
      ]
    }
  ],
  "metadata": {
    "colab": {
      "collapsed_sections": [],
      "name": "Flask deploy?.ipynb",
      "provenance": []
    },
    "kernelspec": {
      "display_name": "Python 3",
      "name": "python3"
    },
    "language_info": {
      "name": "python"
    }
  },
  "nbformat": 4,
  "nbformat_minor": 0
}